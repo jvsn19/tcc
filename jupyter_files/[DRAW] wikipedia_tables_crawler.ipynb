{
 "cells": [
  {
   "cell_type": "markdown",
   "metadata": {},
   "source": [
    "pip install html5print"
   ]
  },
  {
   "cell_type": "markdown",
   "metadata": {},
   "source": [
    "# Wikipedia Tables Crawler"
   ]
  },
  {
   "cell_type": "markdown",
   "metadata": {},
   "source": [
    "## Imports"
   ]
  },
  {
   "cell_type": "code",
   "execution_count": 430,
   "metadata": {},
   "outputs": [
    {
     "ename": "SyntaxError",
     "evalue": "invalid syntax (<ipython-input-430-8b8b1d55e8a2>, line 5)",
     "output_type": "error",
     "traceback": [
      "\u001b[0;36m  File \u001b[0;32m\"<ipython-input-430-8b8b1d55e8a2>\"\u001b[0;36m, line \u001b[0;32m5\u001b[0m\n\u001b[0;31m    from urllib import request, response, error, robotparser.RobotFileParser\u001b[0m\n\u001b[0m                                                            ^\u001b[0m\n\u001b[0;31mSyntaxError\u001b[0m\u001b[0;31m:\u001b[0m invalid syntax\n"
     ]
    }
   ],
   "source": [
    "from bs4 import BeautifulSoup as soup\n",
    "import scrapy\n",
    "import os\n",
    "import pandas as pd\n",
    "from urllib import request, response, error, robotparser\n",
    "from html5print import HTMLBeautifier\n",
    "from typing import NewType, Set\n",
    "from time import sleep\n",
    "from datetime import datetime\n",
    "from enum import Enum"
   ]
  },
  {
   "cell_type": "markdown",
   "metadata": {},
   "source": [
    "## Types"
   ]
  },
  {
   "cell_type": "code",
   "execution_count": 155,
   "metadata": {},
   "outputs": [],
   "source": [
    "URL = NewType('URL', str)\n",
    "HTML = NewType('HTML', str)\n",
    "SoupObj = NewType('SoupObj', soup)\n",
    "Path = NewType('Path', str)"
   ]
  },
  {
   "cell_type": "markdown",
   "metadata": {},
   "source": [
    "## Initial Configuration\n",
    "Import the whole Wikipedia links"
   ]
  },
  {
   "cell_type": "code",
   "execution_count": 349,
   "metadata": {},
   "outputs": [],
   "source": [
    "ROOT_PATH = \"/Users/jvsn/Documents/tcc\"\n",
    "WIKIPEDIA_PATH = '/Users/jvsn/Documents/tcc/csv_folder/links_webtables.csv'\n",
    "WIKIPEDIA_ROOT_LINK = 'https://en.wikipedia.org'\n",
    "SLEEP_TIME = 5\n",
    "LOG_PATH = f'{ROOT_PATH}/logs.txt'"
   ]
  },
  {
   "cell_type": "markdown",
   "metadata": {},
   "source": [
    "## Regex Configuration"
   ]
  },
  {
   "cell_type": "code",
   "execution_count": 255,
   "metadata": {},
   "outputs": [],
   "source": [
    "WIKI_PAGES = r'^/wiki/.*'"
   ]
  },
  {
   "cell_type": "markdown",
   "metadata": {},
   "source": [
    "## Enums"
   ]
  },
  {
   "cell_type": "code",
   "execution_count": 297,
   "metadata": {},
   "outputs": [],
   "source": [
    "class LogTypes(Enum):\n",
    "    INFO = 0\n",
    "    WARNING = 1\n",
    "    ERROR = 2"
   ]
  },
  {
   "cell_type": "markdown",
   "metadata": {},
   "source": [
    "## Code"
   ]
  },
  {
   "cell_type": "code",
   "execution_count": 290,
   "metadata": {},
   "outputs": [],
   "source": [
    "class Logger:\n",
    "    def __init__(self):\n",
    "        # Check if exists a log file\n",
    "        if not os.path.exists(LOG_PATH) or not os.path.isfile(LOG_PATH):\n",
    "            self._create_log()\n",
    "\n",
    "    # Private Methods\n",
    "    def _create_log(self):\n",
    "        now = self._get_now()\n",
    "        \n",
    "        with open(LOG_PATH, 'w+') as log_file:\n",
    "            log_file.write(f'Starting Log at {now}')\n",
    "\n",
    "    def _get_now(self):\n",
    "        return str(datetime.now())\n",
    "\n",
    "    # Public Methods\n",
    "    @classmethod\n",
    "    def log(self, log_type: LogTypes, message: str):\n",
    "        now = self._get_now()\n",
    "\n",
    "        with open(LOG_PATH, 'a+') as log_file:\n",
    "            log_file.write(f'[{now}][{log_type}] - {message}')"
   ]
  },
  {
   "cell_type": "code",
   "execution_count": 205,
   "metadata": {},
   "outputs": [],
   "source": [
    "def get_html(url: Url) -> response:\n",
    "    return request.urlopen(url)"
   ]
  },
  {
   "cell_type": "code",
   "execution_count": 317,
   "metadata": {},
   "outputs": [],
   "source": [
    "def get_urls_from_csv(csv_path: str, limit: int = -1) -> {URL}:\n",
    "    '''\n",
    "    Function that reads a CSV file with urls. The CSV should follow the pattern:\n",
    "    file.csv:\n",
    "        <title> # This line will be ignored\n",
    "        <url_1>\n",
    "        ...\n",
    "        <url_n>\n",
    "    \n",
    "    Arguments:\n",
    "    path: URL to be donwloaded\n",
    "    \n",
    "    Optional arguments:\n",
    "    limit: limit of the number of lines returned, default infinite\n",
    "    \n",
    "    Return:\n",
    "    A set of URL. The set approach is to avoid repeated urls.\n",
    "    '''\n",
    "    with open(csv_path, 'r') as paths_file:\n",
    "        paths_file.readline() # The first line is useless\n",
    "        output = set()\n",
    "        \n",
    "        while paths_file and limit:\n",
    "            output.add(paths_file.readline())\n",
    "            # If limit is negative, it value will never change\n",
    "            limit = limit - 1 if limit > 0 else limit\n",
    "            \n",
    "        return output"
   ]
  },
  {
   "cell_type": "code",
   "execution_count": 211,
   "metadata": {},
   "outputs": [],
   "source": [
    "def to_beautiful_soup(html: HTML, parser = \"html5lib\") -> SoupObj:\n",
    "    return soup(html, parser)"
   ]
  },
  {
   "cell_type": "code",
   "execution_count": 212,
   "metadata": {},
   "outputs": [],
   "source": [
    "def print_html(soup_object: SoupObj) -> None:\n",
    "    print(soup_object.prettify())"
   ]
  },
  {
   "cell_type": "code",
   "execution_count": 325,
   "metadata": {},
   "outputs": [],
   "source": [
    "def main():\n",
    "    urls = get_urls_from_csv(WIKIPEDIA_PATH, 1)\n",
    "    size_urls = len(urls)\n",
    "    should_sleep = size_urls > 1\n",
    "    page_references = dict()\n",
    "    \n",
    "    for (idx, url) in enumerate(urls):\n",
    "        try:\n",
    "            soup_obj = to_beautiful_soup(get_html(url))\n",
    "        except Exception as e:\n",
    "            Logger.log(log_type=LogTypes.ERROR, message = e.strerror)\n",
    "        \n",
    "        page_references[url] = wikipedia_table_parser(soup_obj, url)\n",
    "    \n",
    "    return page_references"
   ]
  },
  {
   "cell_type": "code",
   "execution_count": 345,
   "metadata": {},
   "outputs": [],
   "source": [
    "def wikipedia_table_parser(soup_obj, page_url: URL):\n",
    "    '''\n",
    "    This is a custom parser to get all the tables from a wikipedia page.\n",
    "    From each table, the goal is to get all references. The references follow the pattern:\n",
    "    - /wiki/.* : other wiki pages. Build the url as {WIKIPEDIA_ROOT_LINK}{<match>}\n",
    "    - #cite : citations in the same wiki. Need to search the {current_page}<citation> and get the href of it\n",
    "    - #CITE : same as #cite\n",
    "    - http[s]?://<url> common url\n",
    "    - //<url> : same as putting http[s]?://<url>. This case needs to add the http\n",
    "    '''\n",
    "    references_url = set()\n",
    "    invalid_urls_regex = r'.*(Wikipedia:|Talk:)'\n",
    "    \n",
    "    for soup_obj_table in soup_obj.find_all('table', attrs={'class': 'wikitable'}):\n",
    "        soup_obj_with_href = soup_obj_table.find_all(href=True)\n",
    "        \n",
    "        for href in soup_obj_with_href:\n",
    "            href = href.get('href')\n",
    "            \n",
    "            # Filter invalid urls\n",
    "            href = href.split('#')[0] # Get only the first url slice if the link is <url>#session\n",
    "            if re.match(invalid_urls_regex, href):\n",
    "                continue\n",
    "            \n",
    "            # Match possibilities\n",
    "            if re.match(r'^/wiki/.*', href):\n",
    "                references_url.add(f'{WIKIPEDIA_ROOT_LINK}{href}')\n",
    "            elif re.match(r'^#(cite|CITE).*', href):\n",
    "                new_url = f'{page_url}{href}'\n",
    "            elif re.match(r'^//.*', href):\n",
    "                references_url.add(f'https:{href}')\n",
    "            elif re.match(r'^https?.*', href):\n",
    "                references_url.add(href)\n",
    "            \n",
    "    return references_url"
   ]
  },
  {
   "cell_type": "code",
   "execution_count": 305,
   "metadata": {},
   "outputs": [],
   "source": [
    "def parser(tag: str, attrs: dict):\n",
    "    pass"
   ]
  },
  {
   "cell_type": "markdown",
   "metadata": {},
   "source": [
    "## Testing"
   ]
  },
  {
   "cell_type": "code",
   "execution_count": 85,
   "metadata": {},
   "outputs": [],
   "source": [
    "import unittest"
   ]
  },
  {
   "cell_type": "code",
   "execution_count": 183,
   "metadata": {},
   "outputs": [],
   "source": [
    "class TestHTMLRequests(unittest.TestCase):\n",
    "    def test_sucessful_request(self):\n",
    "        url = \"http://www.google.com\"\n",
    "        response = get_html(url)\n",
    "        self.assertEqual(200, response.status)\n",
    "        \n",
    "    def test_fail_request(self):\n",
    "        url = \"http://www.aodhasda.com\"\n",
    "        with self.assertRaises(error.URLError):\n",
    "            get_html(url)"
   ]
  },
  {
   "cell_type": "code",
   "execution_count": 184,
   "metadata": {},
   "outputs": [],
   "source": [
    "a = TestHTMLRequests()\n",
    "a.test_fail_request()"
   ]
  },
  {
   "cell_type": "code",
   "execution_count": 185,
   "metadata": {},
   "outputs": [],
   "source": [
    "suite = unittest.TestSuite()"
   ]
  },
  {
   "cell_type": "code",
   "execution_count": 188,
   "metadata": {},
   "outputs": [],
   "source": [
    "suite.addTest(TestHTMLRequests('test_sucessful_request'))\n",
    "suite.addTest(TestHTMLRequests('test_fail_request'))"
   ]
  },
  {
   "cell_type": "code",
   "execution_count": 303,
   "metadata": {},
   "outputs": [
    {
     "name": "stdout",
     "output_type": "stream",
     "text": [
      "division by zero\n"
     ]
    },
    {
     "ename": "NameError",
     "evalue": "name 'a' is not defined",
     "output_type": "error",
     "traceback": [
      "\u001b[0;31m---------------------------------------------------------------------------\u001b[0m",
      "\u001b[0;31mNameError\u001b[0m                                 Traceback (most recent call last)",
      "\u001b[0;32m<ipython-input-303-7b087e8d9b6d>\u001b[0m in \u001b[0;36m<module>\u001b[0;34m\u001b[0m\n\u001b[1;32m      4\u001b[0m \u001b[0;32mexcept\u001b[0m \u001b[0mException\u001b[0m \u001b[0;32mas\u001b[0m \u001b[0me\u001b[0m\u001b[0;34m:\u001b[0m\u001b[0;34m\u001b[0m\u001b[0;34m\u001b[0m\u001b[0m\n\u001b[1;32m      5\u001b[0m     \u001b[0mprint\u001b[0m\u001b[0;34m(\u001b[0m\u001b[0me\u001b[0m\u001b[0;34m)\u001b[0m\u001b[0;34m\u001b[0m\u001b[0;34m\u001b[0m\u001b[0m\n\u001b[0;32m----> 6\u001b[0;31m \u001b[0ma\u001b[0m\u001b[0;34m\u001b[0m\u001b[0;34m\u001b[0m\u001b[0m\n\u001b[0m",
      "\u001b[0;31mNameError\u001b[0m: name 'a' is not defined"
     ]
    }
   ],
   "source": [
    "try:\n",
    "    del a\n",
    "    a = 2 / 0\n",
    "except Exception as e:\n",
    "    print(e)\n",
    "a"
   ]
  },
  {
   "cell_type": "code",
   "execution_count": 315,
   "metadata": {},
   "outputs": [
    {
     "data": {
      "text/plain": [
       "<re.Match object; span=(0, 5), match='https'>"
      ]
     },
     "execution_count": 315,
     "metadata": {},
     "output_type": "execute_result"
    }
   ],
   "source": [
    "re.match(r'https?', 'https')"
   ]
  },
  {
   "cell_type": "code",
   "execution_count": 350,
   "metadata": {},
   "outputs": [
    {
     "data": {
      "text/plain": [
       "{'https://en.wikipedia.org/wiki/Timeline_of_the_evolutionary_history_of_life\\n': {'https://en.wikipedia.org/wiki/Abiogenesis',\n",
       "  'https://en.wikipedia.org/wiki/Acanthostega',\n",
       "  'https://en.wikipedia.org/wiki/Acasta_Gneiss',\n",
       "  'https://en.wikipedia.org/wiki/Accretion_disc',\n",
       "  'https://en.wikipedia.org/wiki/Acipenseridae',\n",
       "  'https://en.wikipedia.org/wiki/Acritarch',\n",
       "  'https://en.wikipedia.org/wiki/Actinopterygii',\n",
       "  'https://en.wikipedia.org/wiki/Adelobasileus',\n",
       "  'https://en.wikipedia.org/wiki/Adenosine_triphosphate',\n",
       "  'https://en.wikipedia.org/wiki/Africa',\n",
       "  'https://en.wikipedia.org/wiki/Agnatha',\n",
       "  'https://en.wikipedia.org/wiki/Alaska',\n",
       "  'https://en.wikipedia.org/wiki/Alligator',\n",
       "  'https://en.wikipedia.org/wiki/Alluvium',\n",
       "  'https://en.wikipedia.org/wiki/Ammonite',\n",
       "  'https://en.wikipedia.org/wiki/Ammonoidea',\n",
       "  'https://en.wikipedia.org/wiki/Amniote',\n",
       "  'https://en.wikipedia.org/wiki/Angiosperm',\n",
       "  'https://en.wikipedia.org/wiki/Animal',\n",
       "  'https://en.wikipedia.org/wiki/Ant',\n",
       "  'https://en.wikipedia.org/wiki/Anthozoa',\n",
       "  'https://en.wikipedia.org/wiki/Archaea',\n",
       "  'https://en.wikipedia.org/wiki/Archaeoceti',\n",
       "  'https://en.wikipedia.org/wiki/Archaeolepis',\n",
       "  'https://en.wikipedia.org/wiki/Archaeopteryx',\n",
       "  'https://en.wikipedia.org/wiki/Ardipithecus',\n",
       "  'https://en.wikipedia.org/wiki/Armadillo',\n",
       "  'https://en.wikipedia.org/wiki/Arthropod',\n",
       "  'https://en.wikipedia.org/wiki/Asia',\n",
       "  'https://en.wikipedia.org/wiki/Aurochs',\n",
       "  'https://en.wikipedia.org/wiki/Australian_megafauna',\n",
       "  'https://en.wikipedia.org/wiki/Australopithecine',\n",
       "  'https://en.wikipedia.org/wiki/Australopithecus',\n",
       "  'https://en.wikipedia.org/wiki/Bacteria',\n",
       "  'https://en.wikipedia.org/wiki/Bacteriophage',\n",
       "  'https://en.wikipedia.org/wiki/Badjcinus',\n",
       "  'https://en.wikipedia.org/wiki/Baiji',\n",
       "  'https://en.wikipedia.org/wiki/Baleen_whale',\n",
       "  'https://en.wikipedia.org/wiki/Bali_tiger',\n",
       "  'https://en.wikipedia.org/wiki/Banded_iron_formation',\n",
       "  'https://en.wikipedia.org/wiki/Barnacle',\n",
       "  'https://en.wikipedia.org/wiki/Basilosaurus',\n",
       "  'https://en.wikipedia.org/wiki/Bat',\n",
       "  'https://en.wikipedia.org/wiki/Batoidea',\n",
       "  'https://en.wikipedia.org/wiki/Bear',\n",
       "  'https://en.wikipedia.org/wiki/Bee',\n",
       "  'https://en.wikipedia.org/wiki/Beetle',\n",
       "  'https://en.wikipedia.org/wiki/Belemnitida',\n",
       "  'https://en.wikipedia.org/wiki/Bennettitales',\n",
       "  'https://en.wikipedia.org/wiki/Bilateria',\n",
       "  'https://en.wikipedia.org/wiki/Biogenic_substance',\n",
       "  'https://en.wikipedia.org/wiki/Biotic_material',\n",
       "  'https://en.wikipedia.org/wiki/Bivalvia',\n",
       "  'https://en.wikipedia.org/wiki/Blue_whale',\n",
       "  'https://en.wikipedia.org/wiki/Bovidae',\n",
       "  'https://en.wikipedia.org/wiki/Brachiopod',\n",
       "  'https://en.wikipedia.org/wiki/Brontotheriidae',\n",
       "  'https://en.wikipedia.org/wiki/Bryozoa',\n",
       "  'https://en.wikipedia.org/wiki/Burgess_Shale',\n",
       "  'https://en.wikipedia.org/wiki/Butterflies',\n",
       "  'https://en.wikipedia.org/wiki/Cambrian_explosion',\n",
       "  'https://en.wikipedia.org/wiki/Camel',\n",
       "  'https://en.wikipedia.org/wiki/Canidae',\n",
       "  'https://en.wikipedia.org/wiki/Canis',\n",
       "  'https://en.wikipedia.org/wiki/Carbon',\n",
       "  'https://en.wikipedia.org/wiki/Carbon_dioxide',\n",
       "  'https://en.wikipedia.org/wiki/Carboniferous',\n",
       "  'https://en.wikipedia.org/wiki/Carcharodon',\n",
       "  'https://en.wikipedia.org/wiki/Caribbean_monk_seal',\n",
       "  'https://en.wikipedia.org/wiki/Carnivora',\n",
       "  'https://en.wikipedia.org/wiki/Carnivore',\n",
       "  'https://en.wikipedia.org/wiki/Cell_(biology)',\n",
       "  'https://en.wikipedia.org/wiki/Cephalopod',\n",
       "  'https://en.wikipedia.org/wiki/Ceratopogonidae',\n",
       "  'https://en.wikipedia.org/wiki/Ceratopsia',\n",
       "  'https://en.wikipedia.org/wiki/Charales',\n",
       "  'https://en.wikipedia.org/wiki/Cheilostomata',\n",
       "  'https://en.wikipedia.org/wiki/Chemotroph',\n",
       "  'https://en.wikipedia.org/wiki/Chimaeridae',\n",
       "  'https://en.wikipedia.org/wiki/Chimpanzee%E2%80%93human_last_common_ancestor',\n",
       "  'https://en.wikipedia.org/wiki/China',\n",
       "  'https://en.wikipedia.org/wiki/Chiton',\n",
       "  'https://en.wikipedia.org/wiki/Chordate',\n",
       "  'https://en.wikipedia.org/wiki/Cladotheria',\n",
       "  'https://en.wikipedia.org/wiki/Coati',\n",
       "  'https://en.wikipedia.org/wiki/Coccolithophore',\n",
       "  'https://en.wikipedia.org/wiki/Cockle_(bivalve)',\n",
       "  'https://en.wikipedia.org/wiki/Coelophysoidea',\n",
       "  'https://en.wikipedia.org/wiki/Coevolution',\n",
       "  'https://en.wikipedia.org/wiki/Conodont',\n",
       "  'https://en.wikipedia.org/wiki/Coral',\n",
       "  'https://en.wikipedia.org/wiki/Corbulidae',\n",
       "  'https://en.wikipedia.org/wiki/Corvus',\n",
       "  'https://en.wikipedia.org/wiki/Cosmic_dust',\n",
       "  'https://en.wikipedia.org/wiki/Coyote',\n",
       "  'https://en.wikipedia.org/wiki/Crab',\n",
       "  'https://en.wikipedia.org/wiki/Creodonta',\n",
       "  'https://en.wikipedia.org/wiki/Cretaceous%E2%80%93Paleogene_extinction_event',\n",
       "  'https://en.wikipedia.org/wiki/Crocodilia',\n",
       "  'https://en.wikipedia.org/wiki/Crustacean',\n",
       "  'https://en.wikipedia.org/wiki/Cryptoclididae',\n",
       "  'https://en.wikipedia.org/wiki/Ctenophora',\n",
       "  'https://en.wikipedia.org/wiki/Cyanobacteria',\n",
       "  'https://en.wikipedia.org/wiki/Cycad',\n",
       "  'https://en.wikipedia.org/wiki/Deer',\n",
       "  'https://en.wikipedia.org/wiki/Diapsid',\n",
       "  'https://en.wikipedia.org/wiki/Diatom',\n",
       "  'https://en.wikipedia.org/wiki/Dictyochales',\n",
       "  'https://en.wikipedia.org/wiki/Dimetrodon',\n",
       "  'https://en.wikipedia.org/wiki/Dodo',\n",
       "  'https://en.wikipedia.org/wiki/Dog',\n",
       "  'https://en.wikipedia.org/wiki/Dorygnathus',\n",
       "  'https://en.wikipedia.org/wiki/Eagle',\n",
       "  'https://en.wikipedia.org/wiki/Earliest_life_forms',\n",
       "  'https://en.wikipedia.org/wiki/Echinoderm',\n",
       "  'https://en.wikipedia.org/wiki/Ediacara_biota',\n",
       "  'https://en.wikipedia.org/wiki/Elasmosauridae',\n",
       "  'https://en.wikipedia.org/wiki/Electrochemical_gradient',\n",
       "  'https://en.wikipedia.org/wiki/Elephant',\n",
       "  'https://en.wikipedia.org/wiki/Embrithopoda',\n",
       "  'https://en.wikipedia.org/wiki/Endosymbiont',\n",
       "  'https://en.wikipedia.org/wiki/Epoch_(geology)',\n",
       "  'https://en.wikipedia.org/wiki/Equidae',\n",
       "  'https://en.wikipedia.org/wiki/Equisetopsida',\n",
       "  'https://en.wikipedia.org/wiki/Eucalypt',\n",
       "  'https://en.wikipedia.org/wiki/Eucynodontia',\n",
       "  'https://en.wikipedia.org/wiki/Eukaryote',\n",
       "  'https://en.wikipedia.org/wiki/Europe',\n",
       "  'https://en.wikipedia.org/wiki/Even-toed_ungulate',\n",
       "  'https://en.wikipedia.org/wiki/Evolution_of_sexual_reproduction',\n",
       "  'https://en.wikipedia.org/wiki/Fabrosauridae',\n",
       "  'https://en.wikipedia.org/wiki/Felidae',\n",
       "  'https://en.wikipedia.org/wiki/Ferret',\n",
       "  'https://en.wikipedia.org/wiki/Flightless_bird',\n",
       "  'https://en.wikipedia.org/wiki/Flowering_plant',\n",
       "  'https://en.wikipedia.org/wiki/Fly',\n",
       "  'https://en.wikipedia.org/wiki/Foraminifera',\n",
       "  'https://en.wikipedia.org/wiki/Forest',\n",
       "  'https://en.wikipedia.org/wiki/Formation_of_the_Earth',\n",
       "  'https://en.wikipedia.org/wiki/Fossil',\n",
       "  'https://en.wikipedia.org/wiki/Fossil_record',\n",
       "  'https://en.wikipedia.org/wiki/Functional_extinction',\n",
       "  'https://en.wikipedia.org/wiki/Fungus',\n",
       "  'https://en.wikipedia.org/wiki/Galeaspida',\n",
       "  'https://en.wikipedia.org/wiki/Gastornis',\n",
       "  'https://en.wikipedia.org/wiki/Gastropoda',\n",
       "  'https://en.wikipedia.org/wiki/Gazelle',\n",
       "  'https://en.wikipedia.org/wiki/Geminiviridae',\n",
       "  'https://en.wikipedia.org/wiki/Giant_anteater',\n",
       "  'https://en.wikipedia.org/wiki/Giant_impact_hypothesis',\n",
       "  'https://en.wikipedia.org/wiki/Gigantopithecus',\n",
       "  'https://en.wikipedia.org/wiki/Ginger',\n",
       "  'https://en.wikipedia.org/wiki/Ginkgos',\n",
       "  'https://en.wikipedia.org/wiki/Giraffe',\n",
       "  'https://en.wikipedia.org/wiki/Glucose',\n",
       "  'https://en.wikipedia.org/wiki/Glycolysis',\n",
       "  'https://en.wikipedia.org/wiki/Glycymerididae',\n",
       "  'https://en.wikipedia.org/wiki/Glyptodont',\n",
       "  'https://en.wikipedia.org/wiki/Glyptodontidae',\n",
       "  'https://en.wikipedia.org/wiki/Gorgonopsia',\n",
       "  'https://en.wikipedia.org/wiki/Graphite',\n",
       "  'https://en.wikipedia.org/wiki/Graptolithina',\n",
       "  'https://en.wikipedia.org/wiki/Grassland',\n",
       "  'https://en.wikipedia.org/wiki/Great_American_Interchange',\n",
       "  'https://en.wikipedia.org/wiki/Great_Oxidation_Event',\n",
       "  'https://en.wikipedia.org/wiki/Great_Oxygenation_Event',\n",
       "  'https://en.wikipedia.org/wiki/Greenland',\n",
       "  'https://en.wikipedia.org/wiki/Greenstone_belt',\n",
       "  'https://en.wikipedia.org/wiki/Ground_sloth',\n",
       "  'https://en.wikipedia.org/wiki/Gymnosperm',\n",
       "  'https://en.wikipedia.org/wiki/Haast%27s_eagle',\n",
       "  'https://en.wikipedia.org/wiki/Hagfish',\n",
       "  'https://en.wikipedia.org/wiki/Hamamelidaceae',\n",
       "  'https://en.wikipedia.org/wiki/Hawk',\n",
       "  'https://en.wikipedia.org/wiki/Hematite',\n",
       "  'https://en.wikipedia.org/wiki/Hermit_crab',\n",
       "  'https://en.wikipedia.org/wiki/Hesperornithes',\n",
       "  'https://en.wikipedia.org/wiki/Heterodontosauridae',\n",
       "  'https://en.wikipedia.org/wiki/Heterokont',\n",
       "  'https://en.wikipedia.org/wiki/Heterostraci',\n",
       "  'https://en.wikipedia.org/wiki/Hexapoda',\n",
       "  'https://en.wikipedia.org/wiki/Himalayacetus',\n",
       "  'https://en.wikipedia.org/wiki/Hippopotamus',\n",
       "  'https://en.wikipedia.org/wiki/Holocene',\n",
       "  'https://en.wikipedia.org/wiki/Homo_antecessor',\n",
       "  'https://en.wikipedia.org/wiki/Homo_habilis',\n",
       "  'https://en.wikipedia.org/wiki/Homo_heidelbergensis',\n",
       "  'https://en.wikipedia.org/wiki/Horse',\n",
       "  'https://en.wikipedia.org/wiki/Hummingbird',\n",
       "  'https://en.wikipedia.org/wiki/Hurricane',\n",
       "  'https://en.wikipedia.org/wiki/Hyena',\n",
       "  'https://en.wikipedia.org/wiki/Hypsodont',\n",
       "  'https://en.wikipedia.org/wiki/IUCN_Red_List',\n",
       "  'https://en.wikipedia.org/wiki/Ichthyopterygia',\n",
       "  'https://en.wikipedia.org/wiki/Ikaria_wariootia',\n",
       "  'https://en.wikipedia.org/wiki/Impact_event',\n",
       "  'https://en.wikipedia.org/wiki/Inoceramidae',\n",
       "  'https://en.wikipedia.org/wiki/Insectivora',\n",
       "  'https://en.wikipedia.org/wiki/Iron_ore',\n",
       "  'https://en.wikipedia.org/wiki/Isua_Greenstone_Belt',\n",
       "  'https://en.wikipedia.org/wiki/Isurus',\n",
       "  'https://en.wikipedia.org/wiki/Jaguar',\n",
       "  'https://en.wikipedia.org/wiki/Japan',\n",
       "  'https://en.wikipedia.org/wiki/Japanese_wolf',\n",
       "  'https://en.wikipedia.org/wiki/Jellyfish',\n",
       "  'https://en.wikipedia.org/wiki/Juramaia',\n",
       "  'https://en.wikipedia.org/wiki/Kangaroo',\n",
       "  'https://en.wikipedia.org/wiki/Krill',\n",
       "  'https://en.wikipedia.org/wiki/Lagomorph',\n",
       "  'https://en.wikipedia.org/wiki/Landform',\n",
       "  'https://en.wikipedia.org/wiki/Laramidia',\n",
       "  'https://en.wikipedia.org/wiki/Last_universal_common_ancestor',\n",
       "  'https://en.wikipedia.org/wiki/Late_Glacial_Maximum',\n",
       "  'https://en.wikipedia.org/wiki/Late_Heavy_Bombardment',\n",
       "  'https://en.wikipedia.org/wiki/Leopard_seal',\n",
       "  'https://en.wikipedia.org/wiki/Lepidodendrales',\n",
       "  'https://en.wikipedia.org/wiki/Lepidoptera',\n",
       "  'https://en.wikipedia.org/wiki/Lichen',\n",
       "  'https://en.wikipedia.org/wiki/Limopsidae',\n",
       "  'https://en.wikipedia.org/wiki/Lion',\n",
       "  'https://en.wikipedia.org/wiki/Loon',\n",
       "  'https://en.wikipedia.org/wiki/Lycopodiophyta',\n",
       "  'https://en.wikipedia.org/wiki/Magnoliids',\n",
       "  'https://en.wikipedia.org/wiki/Mammoth',\n",
       "  'https://en.wikipedia.org/wiki/Mammut',\n",
       "  'https://en.wikipedia.org/wiki/Marine_iguana',\n",
       "  'https://en.wikipedia.org/wiki/Marsupial',\n",
       "  'https://en.wikipedia.org/wiki/Martha_(pigeon)',\n",
       "  'https://en.wikipedia.org/wiki/Mastodon',\n",
       "  'https://en.wikipedia.org/wiki/Megalania',\n",
       "  'https://en.wikipedia.org/wiki/Megatheriidae',\n",
       "  'https://en.wikipedia.org/wiki/Meiosis',\n",
       "  'https://en.wikipedia.org/wiki/Meridiungulata',\n",
       "  'https://en.wikipedia.org/wiki/Mesozoic_Marine_Revolution',\n",
       "  'https://en.wikipedia.org/wiki/Metasediment',\n",
       "  'https://en.wikipedia.org/wiki/Miacids',\n",
       "  'https://en.wikipedia.org/wiki/Michigan',\n",
       "  'https://en.wikipedia.org/wiki/Microbial_mat',\n",
       "  'https://en.wikipedia.org/wiki/Micropaleontology',\n",
       "  'https://en.wikipedia.org/wiki/Mite',\n",
       "  'https://en.wikipedia.org/wiki/Moa',\n",
       "  'https://en.wikipedia.org/wiki/Mollusca',\n",
       "  'https://en.wikipedia.org/wiki/Monocotyledon',\n",
       "  'https://en.wikipedia.org/wiki/Monotreme',\n",
       "  'https://en.wikipedia.org/wiki/Moon',\n",
       "  'https://en.wikipedia.org/wiki/Mosasaur',\n",
       "  'https://en.wikipedia.org/wiki/Moths',\n",
       "  'https://en.wikipedia.org/wiki/Multituberculata',\n",
       "  'https://en.wikipedia.org/wiki/Nautilida',\n",
       "  'https://en.wikipedia.org/wiki/Nautiloid',\n",
       "  'https://en.wikipedia.org/wiki/Neanderthal',\n",
       "  'https://en.wikipedia.org/wiki/New_Zealand',\n",
       "  'https://en.wikipedia.org/wiki/Newt',\n",
       "  'https://en.wikipedia.org/wiki/Nimravidae',\n",
       "  'https://en.wikipedia.org/wiki/Northwest_Territories',\n",
       "  'https://en.wikipedia.org/wiki/Nuculanidae',\n",
       "  'https://en.wikipedia.org/wiki/Nuvvuagittuq_Greenstone_Belt',\n",
       "  'https://en.wikipedia.org/wiki/Oak',\n",
       "  'https://en.wikipedia.org/wiki/Octopus',\n",
       "  'https://en.wikipedia.org/wiki/Odd-toed_ungulate',\n",
       "  'https://en.wikipedia.org/wiki/Odontochelys',\n",
       "  'https://en.wikipedia.org/wiki/Onychonycteris',\n",
       "  'https://en.wikipedia.org/wiki/Opiliones',\n",
       "  'https://en.wikipedia.org/wiki/Opossum',\n",
       "  'https://en.wikipedia.org/wiki/Orangutan',\n",
       "  'https://en.wikipedia.org/wiki/Orb-weaver_spider',\n",
       "  'https://en.wikipedia.org/wiki/Organelle',\n",
       "  'https://en.wikipedia.org/wiki/Organic_compound',\n",
       "  'https://en.wikipedia.org/wiki/Origin_of_water_on_Earth',\n",
       "  'https://en.wikipedia.org/wiki/Ornithischia',\n",
       "  'https://en.wikipedia.org/wiki/Orrorin',\n",
       "  'https://en.wikipedia.org/wiki/Ostracod',\n",
       "  'https://en.wikipedia.org/wiki/Otter',\n",
       "  'https://en.wikipedia.org/wiki/Owl',\n",
       "  'https://en.wikipedia.org/wiki/Oxygen',\n",
       "  'https://en.wikipedia.org/wiki/Ozone_layer',\n",
       "  'https://en.wikipedia.org/wiki/Paddlefish',\n",
       "  'https://en.wikipedia.org/wiki/Paleosol',\n",
       "  'https://en.wikipedia.org/wiki/Paleothyris',\n",
       "  'https://en.wikipedia.org/wiki/Paraceratherium',\n",
       "  'https://en.wikipedia.org/wiki/Paranthropus',\n",
       "  'https://en.wikipedia.org/wiki/Parrot',\n",
       "  'https://en.wikipedia.org/wiki/Passenger_pigeon',\n",
       "  'https://en.wikipedia.org/wiki/Passerine',\n",
       "  'https://en.wikipedia.org/wiki/Peccary',\n",
       "  'https://en.wikipedia.org/wiki/Pelagornis_sandersi',\n",
       "  'https://en.wikipedia.org/wiki/Pelican',\n",
       "  'https://en.wikipedia.org/wiki/Pelomedusidae',\n",
       "  'https://en.wikipedia.org/wiki/Penguin',\n",
       "  'https://en.wikipedia.org/wiki/Permian%E2%80%93Triassic_extinction_event',\n",
       "  'https://en.wikipedia.org/wiki/Petrolacosaurus',\n",
       "  'https://en.wikipedia.org/wiki/Phagocytosis',\n",
       "  'https://en.wikipedia.org/wiki/Pholadomyoida',\n",
       "  'https://en.wikipedia.org/wiki/Phorusrhacidae',\n",
       "  'https://en.wikipedia.org/wiki/Photosynthesis',\n",
       "  'https://en.wikipedia.org/wiki/Phylum',\n",
       "  'https://en.wikipedia.org/wiki/Pig',\n",
       "  'https://en.wikipedia.org/wiki/Pine',\n",
       "  'https://en.wikipedia.org/wiki/Pinniped',\n",
       "  'https://en.wikipedia.org/wiki/Pinophyta',\n",
       "  'https://en.wikipedia.org/wiki/Pituriaspida',\n",
       "  'https://en.wikipedia.org/wiki/Placentalia',\n",
       "  'https://en.wikipedia.org/wiki/Plate_tectonics',\n",
       "  'https://en.wikipedia.org/wiki/Plateosauridae',\n",
       "  'https://en.wikipedia.org/wiki/Platypus',\n",
       "  'https://en.wikipedia.org/wiki/Plesiosauria',\n",
       "  'https://en.wikipedia.org/wiki/Pliosauroidea',\n",
       "  'https://en.wikipedia.org/wiki/Poaceae',\n",
       "  'https://en.wikipedia.org/wiki/Pohlsepia',\n",
       "  'https://en.wikipedia.org/wiki/Poison',\n",
       "  'https://en.wikipedia.org/wiki/Polar_bear',\n",
       "  'https://en.wikipedia.org/wiki/Pollen',\n",
       "  'https://en.wikipedia.org/wiki/Primate',\n",
       "  'https://en.wikipedia.org/wiki/Proboscidea',\n",
       "  'https://en.wikipedia.org/wiki/Prokaryote',\n",
       "  'https://en.wikipedia.org/wiki/Protoplanetary_disk',\n",
       "  'https://en.wikipedia.org/wiki/Protozoa',\n",
       "  'https://en.wikipedia.org/wiki/Psammobiidae',\n",
       "  'https://en.wikipedia.org/wiki/Pseudosuchia',\n",
       "  'https://en.wikipedia.org/wiki/Pteridophyte',\n",
       "  'https://en.wikipedia.org/wiki/Pteridospermatophyta',\n",
       "  'https://en.wikipedia.org/wiki/Pterodactyloidea',\n",
       "  'https://en.wikipedia.org/wiki/Quagga',\n",
       "  'https://en.wikipedia.org/wiki/RNA_world_hypothesis',\n",
       "  'https://en.wikipedia.org/wiki/Radiolaria',\n",
       "  'https://en.wikipedia.org/wiki/Red_beds',\n",
       "  'https://en.wikipedia.org/wiki/Redox',\n",
       "  'https://en.wikipedia.org/wiki/Reducing_agent',\n",
       "  'https://en.wikipedia.org/wiki/Rhinoceros',\n",
       "  'https://en.wikipedia.org/wiki/Rhynchosaur',\n",
       "  'https://en.wikipedia.org/wiki/Rodent',\n",
       "  'https://en.wikipedia.org/wiki/Rosids',\n",
       "  'https://en.wikipedia.org/wiki/Rotation_around_a_fixed_axis',\n",
       "  'https://en.wikipedia.org/wiki/Rudists',\n",
       "  'https://en.wikipedia.org/wiki/Rugosodon',\n",
       "  'https://en.wikipedia.org/wiki/Saber-toothed_cat',\n",
       "  'https://en.wikipedia.org/wiki/Sahelanthropus',\n",
       "  'https://en.wikipedia.org/wiki/Sailfish',\n",
       "  'https://en.wikipedia.org/wiki/Salamander',\n",
       "  'https://en.wikipedia.org/wiki/Sandstone',\n",
       "  'https://en.wikipedia.org/wiki/Sauropoda',\n",
       "  'https://en.wikipedia.org/wiki/Sauropsida',\n",
       "  'https://en.wikipedia.org/wiki/Savanna',\n",
       "  'https://en.wikipedia.org/wiki/Scelidosaurus',\n",
       "  'https://en.wikipedia.org/wiki/Scorpion',\n",
       "  'https://en.wikipedia.org/wiki/Sea_anemone',\n",
       "  'https://en.wikipedia.org/wiki/Sea_urchin',\n",
       "  'https://en.wikipedia.org/wiki/Semelidae',\n",
       "  'https://en.wikipedia.org/wiki/Sessility_(zoology)',\n",
       "  'https://en.wikipedia.org/wiki/Sex',\n",
       "  'https://en.wikipedia.org/wiki/Shark',\n",
       "  'https://en.wikipedia.org/wiki/Short-faced_bear',\n",
       "  'https://en.wikipedia.org/wiki/Sirenia',\n",
       "  'https://en.wikipedia.org/wiki/Skunk',\n",
       "  'https://en.wikipedia.org/wiki/Slave_craton',\n",
       "  'https://en.wikipedia.org/wiki/Sloth',\n",
       "  'https://en.wikipedia.org/wiki/Smilodon',\n",
       "  'https://en.wikipedia.org/wiki/Snake',\n",
       "  'https://en.wikipedia.org/wiki/Snowball_Earth',\n",
       "  'https://en.wikipedia.org/wiki/South_America',\n",
       "  'https://en.wikipedia.org/wiki/Spermatophyte',\n",
       "  'https://en.wikipedia.org/wiki/Spinosaurus',\n",
       "  'https://en.wikipedia.org/wiki/Sponge',\n",
       "  'https://en.wikipedia.org/wiki/Sponge_reef',\n",
       "  'https://en.wikipedia.org/wiki/Springtail',\n",
       "  'https://en.wikipedia.org/wiki/Starfish',\n",
       "  'https://en.wikipedia.org/wiki/Stegosauria',\n",
       "  'https://en.wikipedia.org/wiki/Steller%27s_sea_cow',\n",
       "  'https://en.wikipedia.org/wiki/Stromatolite',\n",
       "  'https://en.wikipedia.org/wiki/Struthio',\n",
       "  'https://en.wikipedia.org/wiki/Stupendemys',\n",
       "  'https://en.wikipedia.org/wiki/Sturgeon',\n",
       "  'https://en.wikipedia.org/wiki/Subduction',\n",
       "  'https://en.wikipedia.org/wiki/Subfossil_lemur',\n",
       "  'https://en.wikipedia.org/wiki/Sun',\n",
       "  'https://en.wikipedia.org/wiki/Swift',\n",
       "  'https://en.wikipedia.org/wiki/Swordfish',\n",
       "  'https://en.wikipedia.org/wiki/Symbiogenesis',\n",
       "  'https://en.wikipedia.org/wiki/Symmetrodonta',\n",
       "  'https://en.wikipedia.org/wiki/Synapsid',\n",
       "  'https://en.wikipedia.org/wiki/Tapir',\n",
       "  'https://en.wikipedia.org/wiki/Tasmania',\n",
       "  'https://en.wikipedia.org/wiki/Teleostei',\n",
       "  'https://en.wikipedia.org/wiki/Termite',\n",
       "  'https://en.wikipedia.org/wiki/Tetrapod',\n",
       "  'https://en.wikipedia.org/wiki/Theia_(planet)',\n",
       "  'https://en.wikipedia.org/wiki/Therapsid',\n",
       "  'https://en.wikipedia.org/wiki/Theropod',\n",
       "  'https://en.wikipedia.org/wiki/Thyasiridae',\n",
       "  'https://en.wikipedia.org/wiki/Thylacine',\n",
       "  'https://en.wikipedia.org/wiki/Thylacinidae',\n",
       "  'https://en.wikipedia.org/wiki/Thyreophora',\n",
       "  'https://en.wikipedia.org/wiki/Tick',\n",
       "  'https://en.wikipedia.org/wiki/Tide',\n",
       "  'https://en.wikipedia.org/wiki/Toothed_whale',\n",
       "  'https://en.wikipedia.org/wiki/Triadobatrachus_massinoti',\n",
       "  'https://en.wikipedia.org/wiki/Triassic%E2%80%93Jurassic_extinction_event',\n",
       "  'https://en.wikipedia.org/wiki/Triceratops',\n",
       "  'https://en.wikipedia.org/wiki/Triconodontidae',\n",
       "  'https://en.wikipedia.org/wiki/Trigonotarbida',\n",
       "  'https://en.wikipedia.org/wiki/Trimerophytopsida',\n",
       "  'https://en.wikipedia.org/wiki/Turtle',\n",
       "  'https://en.wikipedia.org/wiki/Tyrannosaurus',\n",
       "  'https://en.wikipedia.org/wiki/Ultraviolet',\n",
       "  'https://en.wikipedia.org/wiki/Utah',\n",
       "  'https://en.wikipedia.org/wiki/Vampire_squid',\n",
       "  'https://en.wikipedia.org/wiki/Vernal_pool',\n",
       "  'https://en.wikipedia.org/wiki/Verticordiidae',\n",
       "  'https://en.wikipedia.org/wiki/Virus',\n",
       "  'https://en.wikipedia.org/wiki/Vulture',\n",
       "  'https://en.wikipedia.org/wiki/Western_Australia',\n",
       "  'https://en.wikipedia.org/wiki/Western_black_rhinoceros',\n",
       "  'https://en.wikipedia.org/wiki/Woodpecker',\n",
       "  'https://en.wikipedia.org/wiki/Woolly_mammoth',\n",
       "  'https://en.wikipedia.org/wiki/Woolly_rhinoceros',\n",
       "  'https://en.wikipedia.org/wiki/Wrangel_Island',\n",
       "  'https://en.wikipedia.org/wiki/Xenarthra',\n",
       "  'https://en.wikipedia.org/wiki/Xiphactinus',\n",
       "  'https://en.wikipedia.org/wiki/Yangtze',\n",
       "  'https://en.wikipedia.org/wiki/Yinlong',\n",
       "  'https://en.wikipedia.org/wiki/Yoldiidae',\n",
       "  'https://en.wikipedia.org/wiki/Zebra',\n",
       "  'https://en.wikipedia.org/wiki/Zircon'}}"
      ]
     },
     "execution_count": 350,
     "metadata": {},
     "output_type": "execute_result"
    }
   ],
   "source": [
    "main()"
   ]
  },
  {
   "cell_type": "code",
   "execution_count": 344,
   "metadata": {},
   "outputs": [
    {
     "data": {
      "text/plain": [
       "<re.Match object; span=(0, 35), match='https://en.wikipedia.org/wiki/Talk:'>"
      ]
     },
     "execution_count": 344,
     "metadata": {},
     "output_type": "execute_result"
    }
   ],
   "source": [
    "re.match(r'.*(Wikipedia:|Talk:)', 'https://en.wikipedia.org/wiki/Toothed_whale')"
   ]
  },
  {
   "cell_type": "code",
   "execution_count": 373,
   "metadata": {},
   "outputs": [],
   "source": [
    "def a(*args):\n",
    "    my_set = set([3])\n",
    "    my_set.update(args)\n",
    "    print(my_set)"
   ]
  },
  {
   "cell_type": "code",
   "execution_count": 375,
   "metadata": {},
   "outputs": [
    {
     "name": "stdout",
     "output_type": "stream",
     "text": [
      "{1, 2, 3}\n"
     ]
    }
   ],
   "source": [
    "a(1,2)"
   ]
  },
  {
   "cell_type": "code",
   "execution_count": 376,
   "metadata": {},
   "outputs": [],
   "source": [
    "a = set([1,2,3,4,5])"
   ]
  },
  {
   "cell_type": "code",
   "execution_count": 377,
   "metadata": {},
   "outputs": [
    {
     "name": "stdout",
     "output_type": "stream",
     "text": [
      "0 1\n",
      "1 2\n",
      "2 3\n",
      "3 4\n",
      "4 5\n"
     ]
    }
   ],
   "source": [
    "for idx, k in enumerate(a):\n",
    "    print(idx, k)"
   ]
  },
  {
   "cell_type": "code",
   "execution_count": 382,
   "metadata": {},
   "outputs": [],
   "source": [
    "os.makedirs('./a/b/c/d', exist_ok=True)"
   ]
  },
  {
   "cell_type": "code",
   "execution_count": 386,
   "metadata": {},
   "outputs": [
    {
     "ename": "FileNotFoundError",
     "evalue": "[Errno 2] No such file or directory: './a/b/c/d/e/f.txt'",
     "output_type": "error",
     "traceback": [
      "\u001b[0;31m---------------------------------------------------------------------------\u001b[0m",
      "\u001b[0;31mFileNotFoundError\u001b[0m                         Traceback (most recent call last)",
      "\u001b[0;32m<ipython-input-386-f28b970f5ef7>\u001b[0m in \u001b[0;36m<module>\u001b[0;34m\u001b[0m\n\u001b[0;32m----> 1\u001b[0;31m \u001b[0;32mwith\u001b[0m \u001b[0mopen\u001b[0m\u001b[0;34m(\u001b[0m\u001b[0;34m'./a/b/c/d/e/f.txt'\u001b[0m\u001b[0;34m,\u001b[0m \u001b[0;34m'w+'\u001b[0m\u001b[0;34m)\u001b[0m \u001b[0;32mas\u001b[0m \u001b[0mp\u001b[0m\u001b[0;34m:\u001b[0m\u001b[0;34m\u001b[0m\u001b[0;34m\u001b[0m\u001b[0m\n\u001b[0m\u001b[1;32m      2\u001b[0m     \u001b[0mp\u001b[0m\u001b[0;34m.\u001b[0m\u001b[0mwrite\u001b[0m\u001b[0;34m(\u001b[0m\u001b[0;34m\"oi\"\u001b[0m\u001b[0;34m)\u001b[0m\u001b[0;34m\u001b[0m\u001b[0;34m\u001b[0m\u001b[0m\n",
      "\u001b[0;31mFileNotFoundError\u001b[0m: [Errno 2] No such file or directory: './a/b/c/d/e/f.txt'"
     ]
    }
   ],
   "source": [
    "with open('./a/b/c/d/e/f.txt', 'w+') as p:\n",
    "    p.write(\"oi\")"
   ]
  },
  {
   "cell_type": "code",
   "execution_count": 387,
   "metadata": {},
   "outputs": [
    {
     "ename": "FileNotFoundError",
     "evalue": "[Errno 2] No such file or directory: './a/b/c/d/e/f.txt'",
     "output_type": "error",
     "traceback": [
      "\u001b[0;31m---------------------------------------------------------------------------\u001b[0m",
      "\u001b[0;31mFileNotFoundError\u001b[0m                         Traceback (most recent call last)",
      "\u001b[0;32m<ipython-input-387-fb0500a82b20>\u001b[0m in \u001b[0;36m<module>\u001b[0;34m\u001b[0m\n\u001b[0;32m----> 1\u001b[0;31m \u001b[0mos\u001b[0m\u001b[0;34m.\u001b[0m\u001b[0mlistdir\u001b[0m\u001b[0;34m(\u001b[0m\u001b[0;34m'./a/b/c/d/e/f.txt'\u001b[0m\u001b[0;34m)\u001b[0m\u001b[0;34m\u001b[0m\u001b[0;34m\u001b[0m\u001b[0m\n\u001b[0m",
      "\u001b[0;31mFileNotFoundError\u001b[0m: [Errno 2] No such file or directory: './a/b/c/d/e/f.txt'"
     ]
    }
   ],
   "source": [
    "os.listdir('./a/b/c/d/e/f.txt')"
   ]
  },
  {
   "cell_type": "code",
   "execution_count": 394,
   "metadata": {},
   "outputs": [
    {
     "data": {
      "text/plain": [
       "['https:',\n",
       " '',\n",
       " 'en.wikipedia.org',\n",
       " 'wiki',\n",
       " 'Timeline_of_the_evolutionary_history_of_life']"
      ]
     },
     "execution_count": 394,
     "metadata": {},
     "output_type": "execute_result"
    }
   ],
   "source": [
    "'https://en.wikipedia.org/wiki/Timeline_of_the_evolutionary_history_of_life'.split('/')"
   ]
  },
  {
   "cell_type": "code",
   "execution_count": 412,
   "metadata": {},
   "outputs": [],
   "source": [
    "class Parrot:\n",
    "    def __init__(self):\n",
    "        self._voltage = 100000\n",
    "\n",
    "    @property\n",
    "    def voltage(self):\n",
    "        \"\"\"Get the current voltage.\"\"\"\n",
    "        return self._voltage\n",
    "    \n",
    "    @voltage.setter\n",
    "    def voltage(self, value):\n",
    "        print(\"oi\")\n",
    "        self._voltage = value\n",
    "\n",
    "    @voltage.deleter\n",
    "    def voltage(self):\n",
    "        del self._voltage"
   ]
  },
  {
   "cell_type": "code",
   "execution_count": 431,
   "metadata": {},
   "outputs": [],
   "source": [
    "from collections import deque"
   ]
  },
  {
   "cell_type": "code",
   "execution_count": 432,
   "metadata": {},
   "outputs": [],
   "source": [
    "a = deque()"
   ]
  },
  {
   "cell_type": "code",
   "execution_count": 434,
   "metadata": {},
   "outputs": [],
   "source": [
    "response = request.urlopen(url)"
   ]
  },
  {
   "cell_type": "code",
   "execution_count": 438,
   "metadata": {},
   "outputs": [
    {
     "data": {
      "text/plain": [
       "200"
      ]
     },
     "execution_count": 438,
     "metadata": {},
     "output_type": "execute_result"
    }
   ],
   "source": [
    "response.getcode()"
   ]
  },
  {
   "cell_type": "code",
   "execution_count": 439,
   "metadata": {},
   "outputs": [
    {
     "ename": "AttributeError",
     "evalue": "'NoneType' object has no attribute 'a'",
     "output_type": "error",
     "traceback": [
      "\u001b[0;31m---------------------------------------------------------------------------\u001b[0m",
      "\u001b[0;31mAttributeError\u001b[0m                            Traceback (most recent call last)",
      "\u001b[0;32m<ipython-input-439-cba6bd319cde>\u001b[0m in \u001b[0;36m<module>\u001b[0;34m\u001b[0m\n\u001b[0;32m----> 1\u001b[0;31m \u001b[0;32mNone\u001b[0m\u001b[0;34m.\u001b[0m\u001b[0ma\u001b[0m\u001b[0;34m\u001b[0m\u001b[0;34m\u001b[0m\u001b[0m\n\u001b[0m",
      "\u001b[0;31mAttributeError\u001b[0m: 'NoneType' object has no attribute 'a'"
     ]
    }
   ],
   "source": [
    "None.a"
   ]
  },
  {
   "cell_type": "code",
   "execution_count": 440,
   "metadata": {},
   "outputs": [
    {
     "name": "stdout",
     "output_type": "stream",
     "text": [
      "Help on class set in module builtins:\n",
      "\n",
      "class set(object)\n",
      " |  set() -> new empty set object\n",
      " |  set(iterable) -> new set object\n",
      " |  \n",
      " |  Build an unordered collection of unique elements.\n",
      " |  \n",
      " |  Methods defined here:\n",
      " |  \n",
      " |  __and__(self, value, /)\n",
      " |      Return self&value.\n",
      " |  \n",
      " |  __contains__(...)\n",
      " |      x.__contains__(y) <==> y in x.\n",
      " |  \n",
      " |  __eq__(self, value, /)\n",
      " |      Return self==value.\n",
      " |  \n",
      " |  __ge__(self, value, /)\n",
      " |      Return self>=value.\n",
      " |  \n",
      " |  __getattribute__(self, name, /)\n",
      " |      Return getattr(self, name).\n",
      " |  \n",
      " |  __gt__(self, value, /)\n",
      " |      Return self>value.\n",
      " |  \n",
      " |  __iand__(self, value, /)\n",
      " |      Return self&=value.\n",
      " |  \n",
      " |  __init__(self, /, *args, **kwargs)\n",
      " |      Initialize self.  See help(type(self)) for accurate signature.\n",
      " |  \n",
      " |  __ior__(self, value, /)\n",
      " |      Return self|=value.\n",
      " |  \n",
      " |  __isub__(self, value, /)\n",
      " |      Return self-=value.\n",
      " |  \n",
      " |  __iter__(self, /)\n",
      " |      Implement iter(self).\n",
      " |  \n",
      " |  __ixor__(self, value, /)\n",
      " |      Return self^=value.\n",
      " |  \n",
      " |  __le__(self, value, /)\n",
      " |      Return self<=value.\n",
      " |  \n",
      " |  __len__(self, /)\n",
      " |      Return len(self).\n",
      " |  \n",
      " |  __lt__(self, value, /)\n",
      " |      Return self<value.\n",
      " |  \n",
      " |  __ne__(self, value, /)\n",
      " |      Return self!=value.\n",
      " |  \n",
      " |  __or__(self, value, /)\n",
      " |      Return self|value.\n",
      " |  \n",
      " |  __rand__(self, value, /)\n",
      " |      Return value&self.\n",
      " |  \n",
      " |  __reduce__(...)\n",
      " |      Return state information for pickling.\n",
      " |  \n",
      " |  __repr__(self, /)\n",
      " |      Return repr(self).\n",
      " |  \n",
      " |  __ror__(self, value, /)\n",
      " |      Return value|self.\n",
      " |  \n",
      " |  __rsub__(self, value, /)\n",
      " |      Return value-self.\n",
      " |  \n",
      " |  __rxor__(self, value, /)\n",
      " |      Return value^self.\n",
      " |  \n",
      " |  __sizeof__(...)\n",
      " |      S.__sizeof__() -> size of S in memory, in bytes\n",
      " |  \n",
      " |  __sub__(self, value, /)\n",
      " |      Return self-value.\n",
      " |  \n",
      " |  __xor__(self, value, /)\n",
      " |      Return self^value.\n",
      " |  \n",
      " |  add(...)\n",
      " |      Add an element to a set.\n",
      " |      \n",
      " |      This has no effect if the element is already present.\n",
      " |  \n",
      " |  clear(...)\n",
      " |      Remove all elements from this set.\n",
      " |  \n",
      " |  copy(...)\n",
      " |      Return a shallow copy of a set.\n",
      " |  \n",
      " |  difference(...)\n",
      " |      Return the difference of two or more sets as a new set.\n",
      " |      \n",
      " |      (i.e. all elements that are in this set but not the others.)\n",
      " |  \n",
      " |  difference_update(...)\n",
      " |      Remove all elements of another set from this set.\n",
      " |  \n",
      " |  discard(...)\n",
      " |      Remove an element from a set if it is a member.\n",
      " |      \n",
      " |      If the element is not a member, do nothing.\n",
      " |  \n",
      " |  intersection(...)\n",
      " |      Return the intersection of two sets as a new set.\n",
      " |      \n",
      " |      (i.e. all elements that are in both sets.)\n",
      " |  \n",
      " |  intersection_update(...)\n",
      " |      Update a set with the intersection of itself and another.\n",
      " |  \n",
      " |  isdisjoint(...)\n",
      " |      Return True if two sets have a null intersection.\n",
      " |  \n",
      " |  issubset(...)\n",
      " |      Report whether another set contains this set.\n",
      " |  \n",
      " |  issuperset(...)\n",
      " |      Report whether this set contains another set.\n",
      " |  \n",
      " |  pop(...)\n",
      " |      Remove and return an arbitrary set element.\n",
      " |      Raises KeyError if the set is empty.\n",
      " |  \n",
      " |  remove(...)\n",
      " |      Remove an element from a set; it must be a member.\n",
      " |      \n",
      " |      If the element is not a member, raise a KeyError.\n",
      " |  \n",
      " |  symmetric_difference(...)\n",
      " |      Return the symmetric difference of two sets as a new set.\n",
      " |      \n",
      " |      (i.e. all elements that are in exactly one of the sets.)\n",
      " |  \n",
      " |  symmetric_difference_update(...)\n",
      " |      Update a set with the symmetric difference of itself and another.\n",
      " |  \n",
      " |  union(...)\n",
      " |      Return the union of sets as a new set.\n",
      " |      \n",
      " |      (i.e. all elements that are in either set.)\n",
      " |  \n",
      " |  update(...)\n",
      " |      Update a set with the union of itself and others.\n",
      " |  \n",
      " |  ----------------------------------------------------------------------\n",
      " |  Static methods defined here:\n",
      " |  \n",
      " |  __new__(*args, **kwargs) from builtins.type\n",
      " |      Create and return a new object.  See help(type) for accurate signature.\n",
      " |  \n",
      " |  ----------------------------------------------------------------------\n",
      " |  Data and other attributes defined here:\n",
      " |  \n",
      " |  __hash__ = None\n",
      "\n"
     ]
    }
   ],
   "source": [
    "help(set)"
   ]
  },
  {
   "cell_type": "code",
   "execution_count": 443,
   "metadata": {},
   "outputs": [],
   "source": [
    "a = set()"
   ]
  },
  {
   "cell_type": "code",
   "execution_count": 448,
   "metadata": {},
   "outputs": [
    {
     "data": {
      "text/plain": [
       "{1}"
      ]
     },
     "execution_count": 448,
     "metadata": {},
     "output_type": "execute_result"
    }
   ],
   "source": [
    "a.update(set([1]))\n",
    "a"
   ]
  },
  {
   "cell_type": "code",
   "execution_count": 449,
   "metadata": {},
   "outputs": [
    {
     "data": {
      "text/plain": [
       "set()"
      ]
     },
     "execution_count": 449,
     "metadata": {},
     "output_type": "execute_result"
    }
   ],
   "source": [
    "a.pop()\n",
    "a"
   ]
  },
  {
   "cell_type": "code",
   "execution_count": 450,
   "metadata": {},
   "outputs": [],
   "source": [
    "from urllib.parse import urlparse"
   ]
  },
  {
   "cell_type": "code",
   "execution_count": 452,
   "metadata": {},
   "outputs": [],
   "source": [
    "a = urlparse('https://en.wikipedia.org/wiki/Timeline_of_the_evolutionary_history_of_life')"
   ]
  },
  {
   "cell_type": "code",
   "execution_count": 453,
   "metadata": {},
   "outputs": [
    {
     "data": {
      "text/plain": [
       "ParseResult(scheme='https', netloc='en.wikipedia.org', path='/wiki/Timeline_of_the_evolutionary_history_of_life', params='', query='', fragment='')"
      ]
     },
     "execution_count": 453,
     "metadata": {},
     "output_type": "execute_result"
    }
   ],
   "source": [
    "a"
   ]
  },
  {
   "cell_type": "code",
   "execution_count": 454,
   "metadata": {},
   "outputs": [
    {
     "name": "stdout",
     "output_type": "stream",
     "text": [
      "Help on ParseResult in module urllib.parse object:\n",
      "\n",
      "class ParseResult(ParseResult, _NetlocResultMixinStr)\n",
      " |  ParseResult(scheme, netloc, path, params, query, fragment)\n",
      " |  \n",
      " |  ParseResult(scheme, netloc, path, params,  query, fragment)\n",
      " |  \n",
      " |  A 6-tuple that contains components of a parsed URL.\n",
      " |  \n",
      " |  Method resolution order:\n",
      " |      ParseResult\n",
      " |      ParseResult\n",
      " |      builtins.tuple\n",
      " |      _NetlocResultMixinStr\n",
      " |      _NetlocResultMixinBase\n",
      " |      _ResultMixinStr\n",
      " |      builtins.object\n",
      " |  \n",
      " |  Methods defined here:\n",
      " |  \n",
      " |  geturl(self)\n",
      " |  \n",
      " |  ----------------------------------------------------------------------\n",
      " |  Data and other attributes defined here:\n",
      " |  \n",
      " |  _encoded_counterpart = <class 'urllib.parse.ParseResultBytes'>\n",
      " |      ParseResult(scheme, netloc, path, params,  query, fragment)\n",
      " |      \n",
      " |      A 6-tuple that contains components of a parsed URL.\n",
      " |  \n",
      " |  ----------------------------------------------------------------------\n",
      " |  Methods inherited from ParseResult:\n",
      " |  \n",
      " |  __getnewargs__(self)\n",
      " |      Return self as a plain tuple.  Used by copy and pickle.\n",
      " |  \n",
      " |  __repr__(self)\n",
      " |      Return a nicely formatted representation string\n",
      " |  \n",
      " |  _asdict(self)\n",
      " |      Return a new OrderedDict which maps field names to their values.\n",
      " |  \n",
      " |  _replace(_self, **kwds)\n",
      " |      Return a new ParseResult object replacing specified fields with new values\n",
      " |  \n",
      " |  ----------------------------------------------------------------------\n",
      " |  Class methods inherited from ParseResult:\n",
      " |  \n",
      " |  _make(iterable) from builtins.type\n",
      " |      Make a new ParseResult object from a sequence or iterable\n",
      " |  \n",
      " |  ----------------------------------------------------------------------\n",
      " |  Static methods inherited from ParseResult:\n",
      " |  \n",
      " |  __new__(_cls, scheme, netloc, path, params, query, fragment)\n",
      " |      Create new instance of ParseResult(scheme, netloc, path, params, query, fragment)\n",
      " |  \n",
      " |  ----------------------------------------------------------------------\n",
      " |  Data descriptors inherited from ParseResult:\n",
      " |  \n",
      " |  scheme\n",
      " |      Specifies URL scheme for the request.\n",
      " |  \n",
      " |  netloc\n",
      " |      Network location where the request is made to.\n",
      " |  \n",
      " |  path\n",
      " |      The hierarchical path, such as the path to a file to download.\n",
      " |  \n",
      " |  params\n",
      " |      Parameters for last path element used to dereference the URI in order to provide\n",
      " |      access to perform some operation on the resource.\n",
      " |  \n",
      " |  query\n",
      " |      The query component, that contains non-hierarchical data, that along with data\n",
      " |      in path component, identifies a resource in the scope of URI's scheme and\n",
      " |      network location.\n",
      " |  \n",
      " |  fragment\n",
      " |      Fragment identifier, that allows indirect identification of a secondary resource\n",
      " |      by reference to a primary resource and additional identifying information.\n",
      " |  \n",
      " |  ----------------------------------------------------------------------\n",
      " |  Data and other attributes inherited from ParseResult:\n",
      " |  \n",
      " |  _field_defaults = {}\n",
      " |  \n",
      " |  _fields = ('scheme', 'netloc', 'path', 'params', 'query', 'fragment')\n",
      " |  \n",
      " |  _fields_defaults = {}\n",
      " |  \n",
      " |  ----------------------------------------------------------------------\n",
      " |  Methods inherited from builtins.tuple:\n",
      " |  \n",
      " |  __add__(self, value, /)\n",
      " |      Return self+value.\n",
      " |  \n",
      " |  __contains__(self, key, /)\n",
      " |      Return key in self.\n",
      " |  \n",
      " |  __eq__(self, value, /)\n",
      " |      Return self==value.\n",
      " |  \n",
      " |  __ge__(self, value, /)\n",
      " |      Return self>=value.\n",
      " |  \n",
      " |  __getattribute__(self, name, /)\n",
      " |      Return getattr(self, name).\n",
      " |  \n",
      " |  __getitem__(self, key, /)\n",
      " |      Return self[key].\n",
      " |  \n",
      " |  __gt__(self, value, /)\n",
      " |      Return self>value.\n",
      " |  \n",
      " |  __hash__(self, /)\n",
      " |      Return hash(self).\n",
      " |  \n",
      " |  __iter__(self, /)\n",
      " |      Implement iter(self).\n",
      " |  \n",
      " |  __le__(self, value, /)\n",
      " |      Return self<=value.\n",
      " |  \n",
      " |  __len__(self, /)\n",
      " |      Return len(self).\n",
      " |  \n",
      " |  __lt__(self, value, /)\n",
      " |      Return self<value.\n",
      " |  \n",
      " |  __mul__(self, value, /)\n",
      " |      Return self*value.\n",
      " |  \n",
      " |  __ne__(self, value, /)\n",
      " |      Return self!=value.\n",
      " |  \n",
      " |  __rmul__(self, value, /)\n",
      " |      Return value*self.\n",
      " |  \n",
      " |  count(self, value, /)\n",
      " |      Return number of occurrences of value.\n",
      " |  \n",
      " |  index(self, value, start=0, stop=9223372036854775807, /)\n",
      " |      Return first index of value.\n",
      " |      \n",
      " |      Raises ValueError if the value is not present.\n",
      " |  \n",
      " |  ----------------------------------------------------------------------\n",
      " |  Data descriptors inherited from _NetlocResultMixinStr:\n",
      " |  \n",
      " |  _hostinfo\n",
      " |  \n",
      " |  _userinfo\n",
      " |  \n",
      " |  ----------------------------------------------------------------------\n",
      " |  Data descriptors inherited from _NetlocResultMixinBase:\n",
      " |  \n",
      " |  hostname\n",
      " |  \n",
      " |  password\n",
      " |  \n",
      " |  port\n",
      " |  \n",
      " |  username\n",
      " |  \n",
      " |  ----------------------------------------------------------------------\n",
      " |  Methods inherited from _ResultMixinStr:\n",
      " |  \n",
      " |  encode(self, encoding='ascii', errors='strict')\n",
      "\n"
     ]
    }
   ],
   "source": [
    "help(a)"
   ]
  },
  {
   "cell_type": "code",
   "execution_count": 456,
   "metadata": {},
   "outputs": [
    {
     "data": {
      "text/plain": [
       "'https://en.wikipedia.org'"
      ]
     },
     "execution_count": 456,
     "metadata": {},
     "output_type": "execute_result"
    }
   ],
   "source": [
    "f'https://{a.netloc}'\n"
   ]
  },
  {
   "cell_type": "code",
   "execution_count": null,
   "metadata": {},
   "outputs": [],
   "source": []
  }
 ],
 "metadata": {
  "kernelspec": {
   "display_name": "Python 3",
   "language": "python",
   "name": "python3"
  },
  "language_info": {
   "codemirror_mode": {
    "name": "ipython",
    "version": 3
   },
   "file_extension": ".py",
   "mimetype": "text/x-python",
   "name": "python",
   "nbconvert_exporter": "python",
   "pygments_lexer": "ipython3",
   "version": "3.7.9"
  }
 },
 "nbformat": 4,
 "nbformat_minor": 4
}
